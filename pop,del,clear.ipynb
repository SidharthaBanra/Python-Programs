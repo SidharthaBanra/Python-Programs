{
  "nbformat": 4,
  "nbformat_minor": 5,
  "metadata": {
    "kernelspec": {
      "display_name": "Python 3",
      "language": "python",
      "name": "python3"
    },
    "language_info": {
      "codemirror_mode": {
        "name": "ipython",
        "version": 3
      },
      "file_extension": ".py",
      "mimetype": "text/x-python",
      "name": "python",
      "nbconvert_exporter": "python",
      "pygments_lexer": "ipython3",
      "version": "3.8.8"
    },
    "colab": {
      "name": "pop,del,clear.ipynb",
      "provenance": [],
      "include_colab_link": true
    }
  },
  "cells": [
    {
      "cell_type": "markdown",
      "metadata": {
        "id": "view-in-github",
        "colab_type": "text"
      },
      "source": [
        "<a href=\"https://colab.research.google.com/github/SidharthaBanra/Python-Programs/blob/main/pop%2Cdel%2Cclear.ipynb\" target=\"_parent\"><img src=\"https://colab.research.google.com/assets/colab-badge.svg\" alt=\"Open In Colab\"/></a>"
      ]
    },
    {
      "cell_type": "code",
      "metadata": {
        "id": "9c4efefa",
        "outputId": "73d9cdbd-37d5-4a79-f52f-d5ff0e9166bf"
      },
      "source": [
        "#Program to demonstrate list deletion methods\n",
        "abc=[]\n",
        "a=int(input(\"Enter size of list:\"))\n",
        "print(\"Enter the elements\")\n",
        "for i in range(0,a):\n",
        "    abc.append(input())\n",
        "abc.sort()\n",
        "print(abc)\n",
        "abc1=abc\n",
        "abc2=abc\n",
        "abc3=abc\n",
        "print(\"Using pop function:\")\n",
        "x=int(input(\"Enter the index of the element you want to pop:\"))\n",
        "abc1.pop(x)\n",
        "print(\"List After pop:\",abc1)\n",
        "print(\"Using del function:\")\n",
        "Y,Z=input(\"Enter the index of the elements you want to delete:\").split()\n",
        "y=int(Y)\n",
        "z=int(Z)\n",
        "del abc2[y:z]\n",
        "print(\"List After del:\",abc2)\n",
        "print(\"Using clear function:\")\n",
        "abc3.clear()\n",
        "print(\"List after using clear:\",abc3)"
      ],
      "id": "9c4efefa",
      "execution_count": null,
      "outputs": [
        {
          "name": "stdout",
          "output_type": "stream",
          "text": [
            "Enter size of list:6\n",
            "Enter the elements\n",
            "1\n",
            "2\n",
            "3\n",
            "4\n",
            "5\n",
            "6\n",
            "['1', '2', '3', '4', '5', '6']\n",
            "Using pop function:\n",
            "Enter the index of the element you want to pop:3\n",
            "List After pop: ['1', '2', '3', '5', '6']\n",
            "Using del function:\n",
            "Enter the index of the elements you want to delete:2 4\n",
            "List After del: ['1', '2', '6']\n",
            "Using clear function:\n",
            "List after using clear: []\n"
          ]
        }
      ]
    },
    {
      "cell_type": "code",
      "metadata": {
        "id": "06d8aea1"
      },
      "source": [
        ""
      ],
      "id": "06d8aea1",
      "execution_count": null,
      "outputs": []
    }
  ]
}