{
  "nbformat": 4,
  "nbformat_minor": 5,
  "metadata": {
    "kernelspec": {
      "display_name": "Python 3",
      "language": "python",
      "name": "python3"
    },
    "language_info": {
      "codemirror_mode": {
        "name": "ipython",
        "version": 3
      },
      "file_extension": ".py",
      "mimetype": "text/x-python",
      "name": "python",
      "nbconvert_exporter": "python",
      "pygments_lexer": "ipython3",
      "version": "3.8.8"
    },
    "colab": {
      "name": "To print sum of n numbers given by user.ipynb",
      "provenance": [],
      "include_colab_link": true
    }
  },
  "cells": [
    {
      "cell_type": "markdown",
      "metadata": {
        "id": "view-in-github",
        "colab_type": "text"
      },
      "source": [
        "<a href=\"https://colab.research.google.com/github/SidharthaBanra/Python-Programs/blob/main/To_print_sum_of_n_numbers_given_by_user.ipynb\" target=\"_parent\"><img src=\"https://colab.research.google.com/assets/colab-badge.svg\" alt=\"Open In Colab\"/></a>"
      ]
    },
    {
      "cell_type": "code",
      "metadata": {
        "id": "7029e62d",
        "outputId": "7f4906f0-ffe7-4080-e4c8-a724683bc6a8"
      },
      "source": [
        "#WAP to print sum of n natural numbers, where n is entered by the user\n",
        "abc=[]\n",
        "SUM=0\n",
        "n=int(input(\"Enter the number of elements you want to enter: \"))\n",
        "print(\"Enter your elements: \")\n",
        "for i in range (0,n):\n",
        "    abc.append(int(input()))\n",
        "for i in range (0,n):\n",
        "    SUM+=abc[i]\n",
        "print(\"The Sum is: \",SUM)"
      ],
      "id": "7029e62d",
      "execution_count": null,
      "outputs": [
        {
          "name": "stdout",
          "output_type": "stream",
          "text": [
            "Enter the number of elements you want to enter: 10\n",
            "Enter your elements: \n",
            "10\n",
            "20\n",
            "30\n",
            "40\n",
            "50\n",
            "60\n",
            "70\n",
            "80\n",
            "90\n",
            "100\n",
            "The Sum is:  550\n"
          ]
        }
      ]
    },
    {
      "cell_type": "code",
      "metadata": {
        "id": "d9defe25"
      },
      "source": [
        ""
      ],
      "id": "d9defe25",
      "execution_count": null,
      "outputs": []
    }
  ]
}