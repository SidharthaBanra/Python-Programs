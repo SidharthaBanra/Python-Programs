{
  "nbformat": 4,
  "nbformat_minor": 5,
  "metadata": {
    "kernelspec": {
      "display_name": "Python 3",
      "language": "python",
      "name": "python3"
    },
    "language_info": {
      "codemirror_mode": {
        "name": "ipython",
        "version": 3
      },
      "file_extension": ".py",
      "mimetype": "text/x-python",
      "name": "python",
      "nbconvert_exporter": "python",
      "pygments_lexer": "ipython3",
      "version": "3.8.8"
    },
    "colab": {
      "name": "To print sum of n numbers given by user.ipynb",
      "provenance": [],
      "include_colab_link": true
    }
  },
  "cells": [
    {
      "cell_type": "markdown",
      "metadata": {
        "id": "view-in-github",
        "colab_type": "text"
      },
      "source": [
        "<a href=\"https://colab.research.google.com/github/SidharthaBanra/Python-Programs/blob/main/To_print_sum_of_n_numbers_given_by_user.ipynb\" target=\"_parent\"><img src=\"https://colab.research.google.com/assets/colab-badge.svg\" alt=\"Open In Colab\"/></a>"
      ]
    },
    {
      "cell_type": "code",
      "metadata": {
        "id": "41b6d5d7",
        "outputId": "115ef321-dc5b-4603-e016-5e0af1413c67"
      },
      "source": [
        "#WAP to print sum of n natural numbers, where n is entered by the user\n",
        "abc=[]\n",
        "SUM=0\n",
        "k=int(input(\"Enter the number of elements you want to enter: \"))\n",
        "print(\"Enter your elements: \")\n",
        "for i in range (0,k):\n",
        "    abc.append(int(input()))\n",
        "for i in range (0,k):\n",
        "    SUM+=abc[i]\n",
        "print(\"The Sum is: \",SUM)"
      ],
      "id": "41b6d5d7",
      "execution_count": null,
      "outputs": [
        {
          "name": "stdout",
          "output_type": "stream",
          "text": [
            "Enter the number of elements you want to enter: 10\n",
            "Enter your elements: \n",
            "10\n",
            "20\n",
            "30\n",
            "40\n",
            "50\n",
            "60\n",
            "70\n",
            "80\n",
            "90\n",
            "100\n",
            "The Sum is:  550\n"
          ]
        }
      ]
    },
    {
      "cell_type": "code",
      "metadata": {
        "id": "7df25373"
      },
      "source": [
        ""
      ],
      "id": "7df25373",
      "execution_count": null,
      "outputs": []
    }
  ]
}