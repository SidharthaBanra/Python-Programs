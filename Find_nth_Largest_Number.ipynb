{
  "nbformat": 4,
  "nbformat_minor": 5,
  "metadata": {
    "kernelspec": {
      "display_name": "Python 3",
      "language": "python",
      "name": "python3"
    },
    "language_info": {
      "codemirror_mode": {
        "name": "ipython",
        "version": 3
      },
      "file_extension": ".py",
      "mimetype": "text/x-python",
      "name": "python",
      "nbconvert_exporter": "python",
      "pygments_lexer": "ipython3",
      "version": "3.8.8"
    },
    "colab": {
      "name": "Find nth Largest Number.ipynb",
      "provenance": [],
      "include_colab_link": true
    }
  },
  "cells": [
    {
      "cell_type": "markdown",
      "metadata": {
        "id": "view-in-github",
        "colab_type": "text"
      },
      "source": [
        "<a href=\"https://colab.research.google.com/github/SidharthaBanra/Python-Programs/blob/main/Find_nth_Largest_Number.ipynb\" target=\"_parent\"><img src=\"https://colab.research.google.com/assets/colab-badge.svg\" alt=\"Open In Colab\"/></a>"
      ]
    },
    {
      "cell_type": "code",
      "metadata": {
        "id": "443c0563",
        "outputId": "dbffad95-580f-4ba3-8f24-e9ecfdd0dc96"
      },
      "source": [
        "#Program to print the nth largest element from the inserted elements\n",
        "abc=[]\n",
        "k=int(input(\"Enter the number of elements you want to enter: \"))\n",
        "print(\"Enter your elements: \")\n",
        "for i in range (0,k):\n",
        "    abc.append(int(input()))\n",
        "abc.sort()\n",
        "print(abc)\n",
        "n=int(input(\"Enter the nth largest number you want to print: \"))\n",
        "print(abc[k-n])"
      ],
      "id": "443c0563",
      "execution_count": null,
      "outputs": [
        {
          "name": "stdout",
          "output_type": "stream",
          "text": [
            "Enter the number of elements you want to enter: 5\n",
            "Enter your elements: \n",
            "50\n",
            "30\n",
            "10\n",
            "40\n",
            "20\n",
            "[10, 20, 30, 40, 50]\n",
            "Enter the nth largest number you want to print: 3\n",
            "30\n"
          ]
        }
      ]
    },
    {
      "cell_type": "code",
      "metadata": {
        "id": "8927e63a"
      },
      "source": [
        ""
      ],
      "id": "8927e63a",
      "execution_count": null,
      "outputs": []
    }
  ]
}