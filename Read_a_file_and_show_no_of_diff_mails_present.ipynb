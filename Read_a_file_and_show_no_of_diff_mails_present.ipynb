{
  "nbformat": 4,
  "nbformat_minor": 5,
  "metadata": {
    "kernelspec": {
      "display_name": "Python 3",
      "language": "python",
      "name": "python3"
    },
    "language_info": {
      "codemirror_mode": {
        "name": "ipython",
        "version": 3
      },
      "file_extension": ".py",
      "mimetype": "text/x-python",
      "name": "python",
      "nbconvert_exporter": "python",
      "pygments_lexer": "ipython3",
      "version": "3.8.8"
    },
    "colab": {
      "name": "Read a file and show no. of diff mails present.ipynb",
      "provenance": [],
      "include_colab_link": true
    }
  },
  "cells": [
    {
      "cell_type": "markdown",
      "metadata": {
        "id": "view-in-github",
        "colab_type": "text"
      },
      "source": [
        "<a href=\"https://colab.research.google.com/github/SidharthaBanra/Python-Programs/blob/main/Read_a_file_and_show_no_of_diff_mails_present.ipynb\" target=\"_parent\"><img src=\"https://colab.research.google.com/assets/colab-badge.svg\" alt=\"Open In Colab\"/></a>"
      ]
    },
    {
      "cell_type": "code",
      "metadata": {
        "id": "ffe9c839",
        "outputId": "9dd1ae76-488c-412f-91b2-7da3ea176309"
      },
      "source": [
        "#Program to find the number of different mails present in a text file\n",
        "abc=open('Mail.txt','r')\n",
        "a,b,c,d=0,0,0,0\n",
        "for i in abc:\n",
        "    if i.find(\"gmail\")>=0:\n",
        "        a=a+1\n",
        "    if i.find(\"outlook\")>=0:\n",
        "        b=b+1\n",
        "    if i.find(\"gov\")>=0:\n",
        "        c=c+1\n",
        "    if i.find(\"yahoo\")>=0:\n",
        "        d=d+1\n",
        "print(\"No. of gmails present is: \",a)\n",
        "print(\"No. of outlook present is: \",b)\n",
        "print(\"No. of gov present is: \",c)\n",
        "print(\"No. of yahoo present is: \",d)\n",
        "       "
      ],
      "id": "ffe9c839",
      "execution_count": null,
      "outputs": [
        {
          "name": "stdout",
          "output_type": "stream",
          "text": [
            "No. of gmails present is:  12\n",
            "No. of outlook present is:  18\n",
            "No. of gov present is:  14\n",
            "No. of yahoo present is:  16\n"
          ]
        }
      ]
    },
    {
      "cell_type": "code",
      "metadata": {
        "id": "db84ef6c"
      },
      "source": [
        ""
      ],
      "id": "db84ef6c",
      "execution_count": null,
      "outputs": []
    }
  ]
}