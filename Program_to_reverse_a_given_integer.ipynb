{
  "nbformat": 4,
  "nbformat_minor": 5,
  "metadata": {
    "kernelspec": {
      "display_name": "Python 3",
      "language": "python",
      "name": "python3"
    },
    "language_info": {
      "codemirror_mode": {
        "name": "ipython",
        "version": 3
      },
      "file_extension": ".py",
      "mimetype": "text/x-python",
      "name": "python",
      "nbconvert_exporter": "python",
      "pygments_lexer": "ipython3",
      "version": "3.8.8"
    },
    "colab": {
      "name": "Program to reverse a given integer.ipynb",
      "provenance": [],
      "include_colab_link": true
    }
  },
  "cells": [
    {
      "cell_type": "markdown",
      "metadata": {
        "id": "view-in-github",
        "colab_type": "text"
      },
      "source": [
        "<a href=\"https://colab.research.google.com/github/SidharthaBanra/Python-Programs/blob/main/Program_to_reverse_a_given_integer.ipynb\" target=\"_parent\"><img src=\"https://colab.research.google.com/assets/colab-badge.svg\" alt=\"Open In Colab\"/></a>"
      ]
    },
    {
      "cell_type": "code",
      "metadata": {
        "id": "d1d0e8a4",
        "outputId": "3e3983a9-efa7-40f0-bbb3-94d49aaecd54"
      },
      "source": [
        "#Program to reverse a given integer\n",
        "Num = input(\"Enter a Number: \")\n",
        "num = int(Num)\n",
        "reverse_number = 0\n",
        "print(\"Given Number \", num)\n",
        "while num > 0:\n",
        "    reminder = num % 10\n",
        "    reverse_number = (reverse_number * 10) + reminder\n",
        "    num = num // 10\n",
        "print(\"Reversed Number \", reverse_number)"
      ],
      "id": "d1d0e8a4",
      "execution_count": null,
      "outputs": [
        {
          "name": "stdout",
          "output_type": "stream",
          "text": [
            "Enter a Number: 45678\n",
            "Given Number  45678\n",
            "Reversed Number  87654\n"
          ]
        }
      ]
    },
    {
      "cell_type": "code",
      "metadata": {
        "id": "02af0988"
      },
      "source": [
        ""
      ],
      "id": "02af0988",
      "execution_count": null,
      "outputs": []
    }
  ]
}