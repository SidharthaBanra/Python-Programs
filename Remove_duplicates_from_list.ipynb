{
  "nbformat": 4,
  "nbformat_minor": 5,
  "metadata": {
    "kernelspec": {
      "display_name": "Python 3",
      "language": "python",
      "name": "python3"
    },
    "language_info": {
      "codemirror_mode": {
        "name": "ipython",
        "version": 3
      },
      "file_extension": ".py",
      "mimetype": "text/x-python",
      "name": "python",
      "nbconvert_exporter": "python",
      "pygments_lexer": "ipython3",
      "version": "3.8.8"
    },
    "colab": {
      "name": "Remove duplicates from list.ipynb",
      "provenance": [],
      "include_colab_link": true
    }
  },
  "cells": [
    {
      "cell_type": "markdown",
      "metadata": {
        "id": "view-in-github",
        "colab_type": "text"
      },
      "source": [
        "<a href=\"https://colab.research.google.com/github/SidharthaBanra/Python-Programs/blob/main/Remove_duplicates_from_list.ipynb\" target=\"_parent\"><img src=\"https://colab.research.google.com/assets/colab-badge.svg\" alt=\"Open In Colab\"/></a>"
      ]
    },
    {
      "cell_type": "code",
      "metadata": {
        "id": "6a72ec10",
        "outputId": "b065c281-be2b-4511-9b3a-45d525238edd"
      },
      "source": [
        "#Program to remove duplicate elements duplicate elements from a list if any\n",
        "abc=[]\n",
        "a=int(input(\"Enter the number of elements you want to input:\"))\n",
        "print(\"Enter the elements:\")\n",
        "for i in range(0,a):\n",
        "    abc.append(input())\n",
        "print(\"Orginal list: \")\n",
        "print(abc)\n",
        "print(\"After removing duplicate elements if any\")\n",
        "xyz=set(abc)\n",
        "final=list(xyz)\n",
        "print(final)"
      ],
      "id": "6a72ec10",
      "execution_count": null,
      "outputs": [
        {
          "name": "stdout",
          "output_type": "stream",
          "text": [
            "Enter the number of elements you want to input:10\n",
            "Enter the elements:\n",
            "2\n",
            "2\n",
            "3\n",
            "4\n",
            "5\n",
            "5\n",
            "5\n",
            "6\n",
            "7\n",
            "9\n",
            "Orginal list: \n",
            "['2', '2', '3', '4', '5', '5', '5', '6', '7', '9']\n",
            "After removing duplicate elements if any\n",
            "['6', '9', '5', '4', '2', '3', '7']\n"
          ]
        }
      ]
    },
    {
      "cell_type": "code",
      "metadata": {
        "id": "8c9626a8"
      },
      "source": [
        ""
      ],
      "id": "8c9626a8",
      "execution_count": null,
      "outputs": []
    }
  ]
}