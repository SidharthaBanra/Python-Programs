{
  "nbformat": 4,
  "nbformat_minor": 5,
  "metadata": {
    "kernelspec": {
      "display_name": "Python 3",
      "language": "python",
      "name": "python3"
    },
    "language_info": {
      "codemirror_mode": {
        "name": "ipython",
        "version": 3
      },
      "file_extension": ".py",
      "mimetype": "text/x-python",
      "name": "python",
      "nbconvert_exporter": "python",
      "pygments_lexer": "ipython3",
      "version": "3.8.8"
    },
    "colab": {
      "name": "Input sales of the month and display average.ipynb",
      "provenance": [],
      "include_colab_link": true
    }
  },
  "cells": [
    {
      "cell_type": "markdown",
      "metadata": {
        "id": "view-in-github",
        "colab_type": "text"
      },
      "source": [
        "<a href=\"https://colab.research.google.com/github/SidharthaBanra/Python-Programs/blob/main/Input_sales_of_the_month_and_display_average.ipynb\" target=\"_parent\"><img src=\"https://colab.research.google.com/assets/colab-badge.svg\" alt=\"Open In Colab\"/></a>"
      ]
    },
    {
      "cell_type": "code",
      "metadata": {
        "id": "1a30fc2a",
        "outputId": "b8433523-abd6-44bf-e055-1920d0c7535a"
      },
      "source": [
        "#Program to input sales of the month and print the average sale of the month\n",
        "abc=[]\n",
        "total,avg=0,0\n",
        "print(\"Enter the sales of the month starting from 1st of the month\")\n",
        "for i in range (0,30):\n",
        "    abc.append(int(input()))\n",
        "for i in range (0,30):\n",
        "    total=total+abc[i]\n",
        "avg=total/30\n",
        "print(\"Average sale of the month is:\",avg)"
      ],
      "id": "1a30fc2a",
      "execution_count": null,
      "outputs": [
        {
          "name": "stdout",
          "output_type": "stream",
          "text": [
            "Enter the sales of the month starting from 1st of the month\n",
            "10\n",
            "20\n",
            "30\n",
            "40\n",
            "50\n",
            "60\n",
            "70\n",
            "80\n",
            "90\n",
            "100\n",
            "110\n",
            "120\n",
            "130\n",
            "140\n",
            "150\n",
            "160\n",
            "170\n",
            "180\n",
            "190\n",
            "200\n",
            "210\n",
            "220\n",
            "230\n",
            "240\n",
            "250\n",
            "260\n",
            "270\n",
            "280\n",
            "290\n",
            "300\n",
            "Average sale of the month is: 155.0\n"
          ]
        }
      ]
    },
    {
      "cell_type": "code",
      "metadata": {
        "id": "3cacf9a0"
      },
      "source": [
        ""
      ],
      "id": "3cacf9a0",
      "execution_count": null,
      "outputs": []
    }
  ]
}