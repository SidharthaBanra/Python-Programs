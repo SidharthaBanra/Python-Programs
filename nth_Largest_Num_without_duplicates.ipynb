{
  "nbformat": 4,
  "nbformat_minor": 5,
  "metadata": {
    "kernelspec": {
      "display_name": "Python 3",
      "language": "python",
      "name": "python3"
    },
    "language_info": {
      "codemirror_mode": {
        "name": "ipython",
        "version": 3
      },
      "file_extension": ".py",
      "mimetype": "text/x-python",
      "name": "python",
      "nbconvert_exporter": "python",
      "pygments_lexer": "ipython3",
      "version": "3.8.8"
    },
    "colab": {
      "name": "nth Largest Num without duplicates.ipynb",
      "provenance": [],
      "include_colab_link": true
    }
  },
  "cells": [
    {
      "cell_type": "markdown",
      "metadata": {
        "id": "view-in-github",
        "colab_type": "text"
      },
      "source": [
        "<a href=\"https://colab.research.google.com/github/SidharthaBanra/Python-Programs/blob/main/nth_Largest_Num_without_duplicates.ipynb\" target=\"_parent\"><img src=\"https://colab.research.google.com/assets/colab-badge.svg\" alt=\"Open In Colab\"/></a>"
      ]
    },
    {
      "cell_type": "code",
      "metadata": {
        "id": "485a5cba",
        "outputId": "1a05e9c5-ed3f-4a4d-881f-707c50f84c4a"
      },
      "source": [
        "#Program to find nth largest number considering the duplicate elements\n",
        "abc=[]\n",
        "a=int(input(\"Enter the number of elements you want to input:\"))\n",
        "print(\"Enter the elements:\")\n",
        "for i in range(0,a):\n",
        "    abc.append(input())\n",
        "xyz=set(abc)\n",
        "final=list(xyz)\n",
        "final.sort()\n",
        "print(final)\n",
        "n=int(input(\"Enter the nth largest number you want to print: \"))\n",
        "b=len(final)\n",
        "print(final[b-n])"
      ],
      "id": "485a5cba",
      "execution_count": null,
      "outputs": [
        {
          "name": "stdout",
          "output_type": "stream",
          "text": [
            "Enter the number of elements you want to input:6\n",
            "Enter the elements:\n",
            "40\n",
            "20\n",
            "50\n",
            "20\n",
            "10\n",
            "40\n",
            "['10', '20', '40', '50']\n",
            "Enter the nth largest number you want to print: 3\n",
            "20\n"
          ]
        }
      ]
    },
    {
      "cell_type": "code",
      "metadata": {
        "id": "9014d191"
      },
      "source": [
        ""
      ],
      "id": "9014d191",
      "execution_count": null,
      "outputs": []
    }
  ]
}