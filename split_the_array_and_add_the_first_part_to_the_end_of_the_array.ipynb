{
  "nbformat": 4,
  "nbformat_minor": 5,
  "metadata": {
    "kernelspec": {
      "display_name": "Python 3",
      "language": "python",
      "name": "python3"
    },
    "language_info": {
      "codemirror_mode": {
        "name": "ipython",
        "version": 3
      },
      "file_extension": ".py",
      "mimetype": "text/x-python",
      "name": "python",
      "nbconvert_exporter": "python",
      "pygments_lexer": "ipython3",
      "version": "3.8.8"
    },
    "colab": {
      "name": "split the array and add the first part to the end of the array.ipynb",
      "provenance": [],
      "include_colab_link": true
    }
  },
  "cells": [
    {
      "cell_type": "markdown",
      "metadata": {
        "id": "view-in-github",
        "colab_type": "text"
      },
      "source": [
        "<a href=\"https://colab.research.google.com/github/SidharthaBanra/Python-Programs/blob/main/split_the_array_and_add_the_first_part_to_the_end_of_the_array.ipynb\" target=\"_parent\"><img src=\"https://colab.research.google.com/assets/colab-badge.svg\" alt=\"Open In Colab\"/></a>"
      ]
    },
    {
      "cell_type": "code",
      "metadata": {
        "id": "cc5812b9",
        "outputId": "0faa1cde-08f4-43fb-8b27-9b1393cd2c81"
      },
      "source": [
        "#Program to split the array and add the first part to the end of the array\n",
        "def splitArr(arr, n, k): \n",
        "    for i in range(0, k): \n",
        "        x = arr[0]\n",
        "        for j in range(0, n-1):\n",
        "            arr[j] = arr[j + 1]\n",
        "          \n",
        "        arr[n-1] = x\n",
        "\n",
        "abc=[]\n",
        "a=int(input(\"Enter the number of elements you want to enter: \"))\n",
        "print(\"Enter The Elements: \")\n",
        "for i in range (0,a):\n",
        "    abc.append(int(input()))\n",
        "print(abc)\n",
        "position=int(input(\"Enter the position from which you want to split: \"))\n",
        "  \n",
        "splitArr(abc, a, position)\n",
        "print(\"New Array:\")\n",
        "print(abc)\n"
      ],
      "id": "cc5812b9",
      "execution_count": null,
      "outputs": [
        {
          "name": "stdout",
          "output_type": "stream",
          "text": [
            "Enter the number of elements you want to enter: 5\n",
            "Enter The Elements: \n",
            "1\n",
            "2\n",
            "3\n",
            "4\n",
            "5\n",
            "[1, 2, 3, 4, 5]\n",
            "Enter the position from which you want to slice: 2\n",
            "New Array:\n",
            "[3, 4, 5, 1, 2]\n"
          ]
        }
      ]
    },
    {
      "cell_type": "code",
      "metadata": {
        "id": "96142727"
      },
      "source": [
        ""
      ],
      "id": "96142727",
      "execution_count": null,
      "outputs": []
    }
  ]
}