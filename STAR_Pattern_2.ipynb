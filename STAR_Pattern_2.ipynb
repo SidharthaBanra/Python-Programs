{
  "nbformat": 4,
  "nbformat_minor": 5,
  "metadata": {
    "kernelspec": {
      "display_name": "Python 3",
      "language": "python",
      "name": "python3"
    },
    "language_info": {
      "codemirror_mode": {
        "name": "ipython",
        "version": 3
      },
      "file_extension": ".py",
      "mimetype": "text/x-python",
      "name": "python",
      "nbconvert_exporter": "python",
      "pygments_lexer": "ipython3",
      "version": "3.8.8"
    },
    "colab": {
      "name": "STAR Pattern 2.ipynb",
      "provenance": [],
      "include_colab_link": true
    }
  },
  "cells": [
    {
      "cell_type": "markdown",
      "metadata": {
        "id": "view-in-github",
        "colab_type": "text"
      },
      "source": [
        "<a href=\"https://colab.research.google.com/github/SidharthaBanra/Python-Programs/blob/main/STAR_Pattern_2.ipynb\" target=\"_parent\"><img src=\"https://colab.research.google.com/assets/colab-badge.svg\" alt=\"Open In Colab\"/></a>"
      ]
    },
    {
      "cell_type": "code",
      "metadata": {
        "id": "68f47da1",
        "outputId": "09dd97f0-2551-42ba-dd31-664ae4e163da"
      },
      "source": [
        "#Program to print * pattern of user's height choice Star2\n",
        "def Star(n):\n",
        "    k = n - 1\n",
        "    for i in range(0, n):\n",
        "        for j in range(0, k):\n",
        "            print(end=\" \")\n",
        "        k = k - 1\n",
        "        for j in range(0, i+1):\n",
        "            print(\"* \", end=\"\")\n",
        "        print(\"\\r\")\n",
        "N=input(\"Enter The Height Of The Pyramid You Want: \")\n",
        "n=int(N)\n",
        "Star(n)"
      ],
      "id": "68f47da1",
      "execution_count": null,
      "outputs": [
        {
          "output_type": "stream",
          "text": [
            "Enter The Height Of The Pyramid You Want: 6\n",
            "     * \n",
            "    * * \n",
            "   * * * \n",
            "  * * * * \n",
            " * * * * * \n",
            "* * * * * * \n"
          ],
          "name": "stdout"
        }
      ]
    },
    {
      "cell_type": "code",
      "metadata": {
        "id": "933e4a36"
      },
      "source": [
        ""
      ],
      "id": "933e4a36",
      "execution_count": null,
      "outputs": []
    }
  ]
}