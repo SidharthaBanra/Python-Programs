{
  "nbformat": 4,
  "nbformat_minor": 5,
  "metadata": {
    "kernelspec": {
      "display_name": "Python 3",
      "language": "python",
      "name": "python3"
    },
    "language_info": {
      "codemirror_mode": {
        "name": "ipython",
        "version": 3
      },
      "file_extension": ".py",
      "mimetype": "text/x-python",
      "name": "python",
      "nbconvert_exporter": "python",
      "pygments_lexer": "ipython3",
      "version": "3.8.8"
    },
    "colab": {
      "name": "Simple Interest.ipynb",
      "provenance": [],
      "include_colab_link": true
    }
  },
  "cells": [
    {
      "cell_type": "markdown",
      "metadata": {
        "id": "view-in-github",
        "colab_type": "text"
      },
      "source": [
        "<a href=\"https://colab.research.google.com/github/SidharthaBanra/Python-Programs/blob/main/Simple_Interest.ipynb\" target=\"_parent\"><img src=\"https://colab.research.google.com/assets/colab-badge.svg\" alt=\"Open In Colab\"/></a>"
      ]
    },
    {
      "cell_type": "code",
      "metadata": {
        "id": "55c817d9",
        "outputId": "d03107f8-15d9-48a8-ba5c-2aa848c5a381"
      },
      "source": [
        "#Program to find the Simple Interest of the given value\n",
        "p,r,t=input(\"Enter Principal Value, Rate Of Interest & Time Period For The Amount You Want To Deposit \").split()\n",
        "P=int(p)\n",
        "R=float(r)\n",
        "T=int(t)\n",
        "i=(P*R*T)/100\n",
        "print(\"Interest of the Value you deposited is\",i)"
      ],
      "id": "55c817d9",
      "execution_count": null,
      "outputs": [
        {
          "output_type": "stream",
          "text": [
            "Enter Principal Value, Rate Of Interest & Time Period For The Amount You Want To Deposit 1000 5 5\n",
            "Interest of the Value you deposited is 250.0\n"
          ],
          "name": "stdout"
        }
      ]
    },
    {
      "cell_type": "code",
      "metadata": {
        "id": "36b631ea"
      },
      "source": [
        ""
      ],
      "id": "36b631ea",
      "execution_count": null,
      "outputs": []
    }
  ]
}