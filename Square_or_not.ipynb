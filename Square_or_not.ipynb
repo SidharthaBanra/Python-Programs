{
  "nbformat": 4,
  "nbformat_minor": 5,
  "metadata": {
    "kernelspec": {
      "display_name": "Python 3",
      "language": "python",
      "name": "python3"
    },
    "language_info": {
      "codemirror_mode": {
        "name": "ipython",
        "version": 3
      },
      "file_extension": ".py",
      "mimetype": "text/x-python",
      "name": "python",
      "nbconvert_exporter": "python",
      "pygments_lexer": "ipython3",
      "version": "3.8.8"
    },
    "colab": {
      "name": "Square or not.ipynb",
      "provenance": [],
      "include_colab_link": true
    }
  },
  "cells": [
    {
      "cell_type": "markdown",
      "metadata": {
        "id": "view-in-github",
        "colab_type": "text"
      },
      "source": [
        "<a href=\"https://colab.research.google.com/github/SidharthaBanra/Python-Programs/blob/main/Square_or_not.ipynb\" target=\"_parent\"><img src=\"https://colab.research.google.com/assets/colab-badge.svg\" alt=\"Open In Colab\"/></a>"
      ]
    },
    {
      "cell_type": "code",
      "metadata": {
        "id": "4b851bf9"
      },
      "source": [
        "#Program to determine whether the specified sides resemble a square or not\n",
        "l=input(\"Enter Length: \")\n",
        "b=input(\"Enter Breadth: \")\n",
        "if l==b:\n",
        "    print(\"It is a square\")\n",
        "else:\n",
        "    print(\"It is a not a square\")"
      ],
      "id": "4b851bf9",
      "execution_count": null,
      "outputs": []
    },
    {
      "cell_type": "code",
      "metadata": {
        "id": "8e4260b8"
      },
      "source": [
        ""
      ],
      "id": "8e4260b8",
      "execution_count": null,
      "outputs": []
    }
  ]
}