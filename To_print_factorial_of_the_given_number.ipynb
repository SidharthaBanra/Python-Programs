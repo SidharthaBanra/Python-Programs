{
  "nbformat": 4,
  "nbformat_minor": 5,
  "metadata": {
    "kernelspec": {
      "display_name": "Python 3",
      "language": "python",
      "name": "python3"
    },
    "language_info": {
      "codemirror_mode": {
        "name": "ipython",
        "version": 3
      },
      "file_extension": ".py",
      "mimetype": "text/x-python",
      "name": "python",
      "nbconvert_exporter": "python",
      "pygments_lexer": "ipython3",
      "version": "3.8.8"
    },
    "colab": {
      "name": "To print factorial of the given number.ipynb",
      "provenance": [],
      "include_colab_link": true
    }
  },
  "cells": [
    {
      "cell_type": "markdown",
      "metadata": {
        "id": "view-in-github",
        "colab_type": "text"
      },
      "source": [
        "<a href=\"https://colab.research.google.com/github/SidharthaBanra/Python-Programs/blob/main/To_print_factorial_of_the_given_number.ipynb\" target=\"_parent\"><img src=\"https://colab.research.google.com/assets/colab-badge.svg\" alt=\"Open In Colab\"/></a>"
      ]
    },
    {
      "cell_type": "code",
      "metadata": {
        "id": "7029e62d",
        "outputId": "3dc9d247-c096-4f43-dd74-04886e2639f1"
      },
      "source": [
        "#WAP to print the factorial of the given number, where number is entered by the user.\n",
        "a=int(input(\"Enter the number for which you want to know the factorial: \"))\n",
        "fact=1\n",
        "for i in range (1,a+1):\n",
        "    fact=fact*i\n",
        "if a!=0:\n",
        "    print(\"Factorial of the given number is: \",fact)\n",
        "else:\n",
        "    print(\"Factorial of the given number is: 0\")"
      ],
      "id": "7029e62d",
      "execution_count": null,
      "outputs": [
        {
          "name": "stdout",
          "output_type": "stream",
          "text": [
            "Enter the number for which you want to know the factorial: 5\n",
            "Factorial of the given number is:  120\n"
          ]
        }
      ]
    },
    {
      "cell_type": "code",
      "metadata": {
        "id": "5143fa50"
      },
      "source": [
        ""
      ],
      "id": "5143fa50",
      "execution_count": null,
      "outputs": []
    }
  ]
}