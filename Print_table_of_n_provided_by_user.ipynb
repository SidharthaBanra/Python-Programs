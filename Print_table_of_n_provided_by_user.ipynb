{
  "nbformat": 4,
  "nbformat_minor": 5,
  "metadata": {
    "kernelspec": {
      "display_name": "Python 3",
      "language": "python",
      "name": "python3"
    },
    "language_info": {
      "codemirror_mode": {
        "name": "ipython",
        "version": 3
      },
      "file_extension": ".py",
      "mimetype": "text/x-python",
      "name": "python",
      "nbconvert_exporter": "python",
      "pygments_lexer": "ipython3",
      "version": "3.8.8"
    },
    "colab": {
      "name": "Print table of n provided by user.ipynb",
      "provenance": [],
      "include_colab_link": true
    }
  },
  "cells": [
    {
      "cell_type": "markdown",
      "metadata": {
        "id": "view-in-github",
        "colab_type": "text"
      },
      "source": [
        "<a href=\"https://colab.research.google.com/github/SidharthaBanra/Python-Programs/blob/main/Print_table_of_n_provided_by_user.ipynb\" target=\"_parent\"><img src=\"https://colab.research.google.com/assets/colab-badge.svg\" alt=\"Open In Colab\"/></a>"
      ]
    },
    {
      "cell_type": "code",
      "metadata": {
        "id": "f5cddee3",
        "outputId": "6978a903-965a-4d06-9ca8-6e76c533fc9a"
      },
      "source": [
        "#Program to print table of n provided by user\n",
        "a=int(input(\"Enter the number for which you want to know the multiplication table of:\"))\n",
        "b=int(input(\"Enter upto what you want to know the table\"))\n",
        "c,d=1,0\n",
        "print(\"The Table of\",a,\"is:\")\n",
        "for i in range (1,b+1):\n",
        "    d=a*c\n",
        "    print(a,' x ',i,'=',d)\n",
        "    c=c+1"
      ],
      "id": "f5cddee3",
      "execution_count": null,
      "outputs": [
        {
          "name": "stdout",
          "output_type": "stream",
          "text": [
            "Enter the number for which you want to know the multiplication table of:10\n",
            "Enter upto what you want to know the table10\n",
            "The Table of 10 is:\n",
            "10  x  1 = 10\n",
            "10  x  2 = 20\n",
            "10  x  3 = 30\n",
            "10  x  4 = 40\n",
            "10  x  5 = 50\n",
            "10  x  6 = 60\n",
            "10  x  7 = 70\n",
            "10  x  8 = 80\n",
            "10  x  9 = 90\n",
            "10  x  10 = 100\n"
          ]
        }
      ]
    },
    {
      "cell_type": "code",
      "metadata": {
        "id": "991ca039"
      },
      "source": [
        ""
      ],
      "id": "991ca039",
      "execution_count": null,
      "outputs": []
    }
  ]
}