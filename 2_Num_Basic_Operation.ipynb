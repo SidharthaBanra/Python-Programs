{
  "nbformat": 4,
  "nbformat_minor": 5,
  "metadata": {
    "kernelspec": {
      "display_name": "Python 3",
      "language": "python",
      "name": "python3"
    },
    "language_info": {
      "codemirror_mode": {
        "name": "ipython",
        "version": 3
      },
      "file_extension": ".py",
      "mimetype": "text/x-python",
      "name": "python",
      "nbconvert_exporter": "python",
      "pygments_lexer": "ipython3",
      "version": "3.8.8"
    },
    "colab": {
      "name": "2 Num Basic Operation.ipynb",
      "provenance": [],
      "include_colab_link": true
    }
  },
  "cells": [
    {
      "cell_type": "markdown",
      "metadata": {
        "id": "view-in-github",
        "colab_type": "text"
      },
      "source": [
        "<a href=\"https://colab.research.google.com/github/SidharthaBanra/Python-Programs/blob/main/2_Num_Basic_Operation.ipynb\" target=\"_parent\"><img src=\"https://colab.research.google.com/assets/colab-badge.svg\" alt=\"Open In Colab\"/></a>"
      ]
    },
    {
      "cell_type": "code",
      "metadata": {
        "id": "141f8765",
        "outputId": "3b46bf16-e625-4509-f102-f725804ddb68"
      },
      "source": [
        "#Program to input 2 numbers and Add, Subtract, Multiply or Divide them according to the user's wish.\n",
        "m,n=input(\"Enter 2 numbers \").split()\n",
        "M=int(m)\n",
        "N=int(n)\n",
        "t=input(\"Enter the operation you want to perform with the two numbers (+,-,*,/): \")\n",
        "if t == '+' :\n",
        "    print(M+N)\n",
        "elif t == '-' :\n",
        "    print(M-N)\n",
        "elif t == '*' :\n",
        "    print(M*N)\n",
        "else:\n",
        "    print(M/N)"
      ],
      "id": "141f8765",
      "execution_count": null,
      "outputs": [
        {
          "output_type": "stream",
          "text": [
            "Enter 2 numbers 20 10\n",
            "Enter the operation you want to perform with the two numbers (+,-,*,/): *\n",
            "200\n"
          ],
          "name": "stdout"
        }
      ]
    },
    {
      "cell_type": "code",
      "metadata": {
        "id": "ce731f18"
      },
      "source": [
        ""
      ],
      "id": "ce731f18",
      "execution_count": null,
      "outputs": []
    }
  ]
}