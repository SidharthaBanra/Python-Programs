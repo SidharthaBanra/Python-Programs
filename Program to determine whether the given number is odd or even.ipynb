{
  "nbformat": 4,
  "nbformat_minor": 0,
  "metadata": {
    "colab": {
      "name": "Untitled1.ipynb",
      "provenance": [],
      "authorship_tag": "ABX9TyPrVN8v++KciotVJk8fdCLy",
      "include_colab_link": true
    },
    "kernelspec": {
      "name": "python3",
      "display_name": "Python 3"
    },
    "language_info": {
      "name": "python"
    }
  },
  "cells": [
    {
      "cell_type": "markdown",
      "metadata": {
        "id": "view-in-github",
        "colab_type": "text"
      },
      "source": [
        "<a href=\"https://colab.research.google.com/github/SidharthaBanra/Sidharthabanra/blob/main/Program%20to%20determine%20whether%20the%20given%20number%20is%20odd%20or%20even.ipynb\" target=\"_parent\"><img src=\"https://colab.research.google.com/assets/colab-badge.svg\" alt=\"Open In Colab\"/></a>"
      ]
    },
    {
      "cell_type": "code",
      "metadata": {
        "colab": {
          "base_uri": "https://localhost:8080/"
        },
        "id": "VIElE-22iZco",
        "outputId": "7d4b4137-6e5e-45d4-9288-6b27350405f2"
      },
      "source": [
        "# Program to determine whether the given number is odd or even\n",
        "num=input(\"Enter a number \")\n",
        "NUM=int(num)\n",
        "if NUM%2==0:\n",
        "    print(\"Even\")\n",
        "else:\n",
        "    print(\"Odd\")"
      ],
      "execution_count": 1,
      "outputs": [
        {
          "output_type": "stream",
          "text": [
            "Enter a number4\n",
            "Even\n"
          ],
          "name": "stdout"
        }
      ]
    }
  ]
}