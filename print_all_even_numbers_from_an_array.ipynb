{
  "nbformat": 4,
  "nbformat_minor": 5,
  "metadata": {
    "kernelspec": {
      "display_name": "Python 3",
      "language": "python",
      "name": "python3"
    },
    "language_info": {
      "codemirror_mode": {
        "name": "ipython",
        "version": 3
      },
      "file_extension": ".py",
      "mimetype": "text/x-python",
      "name": "python",
      "nbconvert_exporter": "python",
      "pygments_lexer": "ipython3",
      "version": "3.8.8"
    },
    "colab": {
      "name": "print all even numbers from an array.ipynb",
      "provenance": [],
      "include_colab_link": true
    }
  },
  "cells": [
    {
      "cell_type": "markdown",
      "metadata": {
        "id": "view-in-github",
        "colab_type": "text"
      },
      "source": [
        "<a href=\"https://colab.research.google.com/github/SidharthaBanra/Python-Programs/blob/main/print_all_even_numbers_from_an_array.ipynb\" target=\"_parent\"><img src=\"https://colab.research.google.com/assets/colab-badge.svg\" alt=\"Open In Colab\"/></a>"
      ]
    },
    {
      "cell_type": "code",
      "metadata": {
        "id": "e9cdf045",
        "outputId": "a1d48e7a-a2ad-4d35-d4fd-aea5ecc30b0b"
      },
      "source": [
        "#Program to print all even numbers from an array\n",
        "abc=[]\n",
        "a=int(input(\"Enter size of array: \"))\n",
        "print(\"Enter elements: \")\n",
        "for i in range (0,a):\n",
        "    abc.append(int(input()))\n",
        "print(\"Even numbers in the array: \")\n",
        "for i in abc:\n",
        "    if i % 2 == 0:\n",
        "       print(i, end = \" \")"
      ],
      "id": "e9cdf045",
      "execution_count": null,
      "outputs": [
        {
          "name": "stdout",
          "output_type": "stream",
          "text": [
            "Enter size of array: 4\n",
            "Enter elements: \n",
            "15\n",
            "27\n",
            "34\n",
            "16\n",
            "Even numbers in the array: \n",
            "34 16 "
          ]
        }
      ]
    },
    {
      "cell_type": "code",
      "metadata": {
        "id": "b5d670a1"
      },
      "source": [
        ""
      ],
      "id": "b5d670a1",
      "execution_count": null,
      "outputs": []
    }
  ]
}