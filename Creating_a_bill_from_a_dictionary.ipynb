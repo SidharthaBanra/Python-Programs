{
  "nbformat": 4,
  "nbformat_minor": 5,
  "metadata": {
    "kernelspec": {
      "display_name": "Python 3",
      "language": "python",
      "name": "python3"
    },
    "language_info": {
      "codemirror_mode": {
        "name": "ipython",
        "version": 3
      },
      "file_extension": ".py",
      "mimetype": "text/x-python",
      "name": "python",
      "nbconvert_exporter": "python",
      "pygments_lexer": "ipython3",
      "version": "3.8.8"
    },
    "colab": {
      "name": "Creating a bill from a dictionary.ipynb",
      "provenance": [],
      "include_colab_link": true
    }
  },
  "cells": [
    {
      "cell_type": "markdown",
      "metadata": {
        "id": "view-in-github",
        "colab_type": "text"
      },
      "source": [
        "<a href=\"https://colab.research.google.com/github/SidharthaBanra/Python-Programs/blob/main/Creating_a_bill_from_a_dictionary.ipynb\" target=\"_parent\"><img src=\"https://colab.research.google.com/assets/colab-badge.svg\" alt=\"Open In Colab\"/></a>"
      ]
    },
    {
      "cell_type": "markdown",
      "metadata": {
        "id": "f6f848af"
      },
      "source": [
        "# Files"
      ],
      "id": "f6f848af"
    },
    {
      "cell_type": "code",
      "metadata": {
        "id": "16fa3f11"
      },
      "source": [
        "#Program to Make a bill and store the bill details in a text file\n",
        "def sale(order,file):\n",
        "    name= \"Name of the item\"\n",
        "    num = \"Number of items\"\n",
        "    cost = \"Price\"\n",
        "    total = \"Total price\"\n",
        "    final_bill = 0\n",
        "    file.write(\"Cafe Coffee Day\\n\\n\")\n",
        "    file.write(f'{name:{15}} {num:^24}{cost:^17}{total:>7}' +'\\n')\n",
        "    for item, price in order.items():\n",
        "        total_price = price[1]*price[0]\n",
        "        file.write(f'{item:{15}} {price[0]:^25} {price[1]:^15} {total_price:>8}'+'\\n')\n",
        "        final_bill += total_price\n",
        "   \n",
        "    file.write('\\n'+'Total Amount to be paid:'+ format(final_bill, '.2f')+'\\n')\n",
        "    file\n",
        "    file.close()"
      ],
      "id": "16fa3f11",
      "execution_count": null,
      "outputs": []
    },
    {
      "cell_type": "code",
      "metadata": {
        "id": "ab868a38"
      },
      "source": [
        "bill = {\"Coffee\" :[4,80.13] , \"Ice cream\" : [4,50.30] , \"Tea\" : [4,40.11]}\n",
        "file = open('Bill1.txt', 'w')\n",
        "sale(bill,file)"
      ],
      "id": "ab868a38",
      "execution_count": null,
      "outputs": []
    },
    {
      "cell_type": "code",
      "metadata": {
        "id": "a920fa7b"
      },
      "source": [
        "bill = {\"Cake\" : [3, 90.50], \"Cold Drinks\" : [3,60.65]}\n",
        "file = open ('bill2.txt' , 'w')\n",
        "sale(bill, file)"
      ],
      "id": "a920fa7b",
      "execution_count": null,
      "outputs": []
    },
    {
      "cell_type": "code",
      "metadata": {
        "id": "98770128"
      },
      "source": [
        ""
      ],
      "id": "98770128",
      "execution_count": null,
      "outputs": []
    }
  ]
}