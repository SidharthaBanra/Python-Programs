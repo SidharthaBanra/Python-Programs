{
  "nbformat": 4,
  "nbformat_minor": 5,
  "metadata": {
    "kernelspec": {
      "display_name": "Python 3",
      "language": "python",
      "name": "python3"
    },
    "language_info": {
      "codemirror_mode": {
        "name": "ipython",
        "version": 3
      },
      "file_extension": ".py",
      "mimetype": "text/x-python",
      "name": "python",
      "nbconvert_exporter": "python",
      "pygments_lexer": "ipython3",
      "version": "3.8.10"
    },
    "colab": {
      "name": "input string separated by commas.ipynb",
      "provenance": [],
      "include_colab_link": true
    }
  },
  "cells": [
    {
      "cell_type": "markdown",
      "metadata": {
        "id": "view-in-github",
        "colab_type": "text"
      },
      "source": [
        "<a href=\"https://colab.research.google.com/github/SidharthaBanra/Python-Programs/blob/main/input_string_separated_by_commas.ipynb\" target=\"_parent\"><img src=\"https://colab.research.google.com/assets/colab-badge.svg\" alt=\"Open In Colab\"/></a>"
      ]
    },
    {
      "cell_type": "code",
      "metadata": {
        "id": "f6703f48",
        "outputId": "9d13c531-803f-43fe-c2b6-a1fc74483d83"
      },
      "source": [
        "#Program to input numbers or characters in a line in form of a string separated by commas.\n",
        "print(\"Enter your input in a string seprated by commas\")\n",
        "abc = [int(x) for x in input().split(',')]\n",
        "a=len(abc)\n",
        "if a>800000:\n",
        "    print(\"Too large string\")\n",
        "else:\n",
        "    print(\"Your Data:\")\n",
        "    for i in range(0,a):\n",
        "        print(abc[i])"
      ],
      "id": "f6703f48",
      "execution_count": null,
      "outputs": [
        {
          "name": "stdout",
          "output_type": "stream",
          "text": [
            "Enter your input in a string seprated by commas\n",
            "1,2,3,4,5,6\n",
            "Your Data:\n",
            "1\n",
            "2\n",
            "3\n",
            "4\n",
            "5\n",
            "6\n"
          ]
        }
      ]
    },
    {
      "cell_type": "code",
      "metadata": {
        "id": "be03bdcc"
      },
      "source": [
        ""
      ],
      "id": "be03bdcc",
      "execution_count": null,
      "outputs": []
    }
  ]
}