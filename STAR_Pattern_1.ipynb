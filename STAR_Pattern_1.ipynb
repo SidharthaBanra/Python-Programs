{
  "nbformat": 4,
  "nbformat_minor": 5,
  "metadata": {
    "kernelspec": {
      "display_name": "Python 3",
      "language": "python",
      "name": "python3"
    },
    "language_info": {
      "codemirror_mode": {
        "name": "ipython",
        "version": 3
      },
      "file_extension": ".py",
      "mimetype": "text/x-python",
      "name": "python",
      "nbconvert_exporter": "python",
      "pygments_lexer": "ipython3",
      "version": "3.8.8"
    },
    "colab": {
      "name": "STAR Pattern 1.ipynb",
      "provenance": [],
      "include_colab_link": true
    }
  },
  "cells": [
    {
      "cell_type": "markdown",
      "metadata": {
        "id": "view-in-github",
        "colab_type": "text"
      },
      "source": [
        "<a href=\"https://colab.research.google.com/github/SidharthaBanra/Python-Programs/blob/main/STAR_Pattern_1.ipynb\" target=\"_parent\"><img src=\"https://colab.research.google.com/assets/colab-badge.svg\" alt=\"Open In Colab\"/></a>"
      ]
    },
    {
      "cell_type": "code",
      "metadata": {
        "id": "e2db23e1",
        "outputId": "37c75c38-9e08-436a-a503-8140838c3c01"
      },
      "source": [
        "#Program to print * pattern of user's height choice Star1\n",
        "def star(n):\n",
        "    for i in range(0, n):\n",
        "        for j in range(0, i+1):\n",
        "            print(\"* \",end=\"\")\n",
        "        print(\"\\r\")\n",
        "\n",
        "N=input(\"Enter height of the star pyramid you want (int)\")\n",
        "n=int(N)\n",
        "star(n)"
      ],
      "id": "e2db23e1",
      "execution_count": null,
      "outputs": [
        {
          "output_type": "stream",
          "text": [
            "Enter height of the star pyramid (int)4\n",
            "* \n",
            "* * \n",
            "* * * \n",
            "* * * * \n"
          ],
          "name": "stdout"
        }
      ]
    },
    {
      "cell_type": "code",
      "metadata": {
        "id": "9606a531"
      },
      "source": [
        ""
      ],
      "id": "9606a531",
      "execution_count": null,
      "outputs": []
    }
  ]
}