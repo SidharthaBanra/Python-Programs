{
  "nbformat": 4,
  "nbformat_minor": 5,
  "metadata": {
    "kernelspec": {
      "display_name": "Python 3",
      "language": "python",
      "name": "python3"
    },
    "language_info": {
      "codemirror_mode": {
        "name": "ipython",
        "version": 3
      },
      "file_extension": ".py",
      "mimetype": "text/x-python",
      "name": "python",
      "nbconvert_exporter": "python",
      "pygments_lexer": "ipython3",
      "version": "3.8.8"
    },
    "colab": {
      "name": "Largest among 3 numbers.ipynb",
      "provenance": [],
      "include_colab_link": true
    }
  },
  "cells": [
    {
      "cell_type": "markdown",
      "metadata": {
        "id": "view-in-github",
        "colab_type": "text"
      },
      "source": [
        "<a href=\"https://colab.research.google.com/github/SidharthaBanra/Python-Programs/blob/main/Largest_among_3_numbers.ipynb\" target=\"_parent\"><img src=\"https://colab.research.google.com/assets/colab-badge.svg\" alt=\"Open In Colab\"/></a>"
      ]
    },
    {
      "cell_type": "code",
      "metadata": {
        "id": "53b4f502",
        "outputId": "9be583cb-7136-4353-c594-394c985b1e00"
      },
      "source": [
        "#Program to find the largest among 3 numbers given by the user \n",
        "a,b,c=input(\"Enter 3 Numbers \").split()\n",
        "A=int(a)\n",
        "B=int(b)\n",
        "C=int(c)\n",
        "m1=\"is greatest number\"\n",
        "if A<B & A<C:\n",
        "    print(a,m1)\n",
        "elif B<A & B<C:\n",
        "    print(b,m1)\n",
        "else:\n",
        "    print(c,m1)"
      ],
      "id": "53b4f502",
      "execution_count": null,
      "outputs": [
        {
          "output_type": "stream",
          "text": [
            "Enter 3 Numbers 50 29 86\n",
            "86 is greatest number\n"
          ],
          "name": "stdout"
        }
      ]
    },
    {
      "cell_type": "code",
      "metadata": {
        "id": "0867b8ac"
      },
      "source": [
        ""
      ],
      "id": "0867b8ac",
      "execution_count": null,
      "outputs": []
    }
  ]
}