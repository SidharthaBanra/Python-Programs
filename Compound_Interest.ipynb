{
  "nbformat": 4,
  "nbformat_minor": 5,
  "metadata": {
    "kernelspec": {
      "display_name": "Python 3",
      "language": "python",
      "name": "python3"
    },
    "language_info": {
      "codemirror_mode": {
        "name": "ipython",
        "version": 3
      },
      "file_extension": ".py",
      "mimetype": "text/x-python",
      "name": "python",
      "nbconvert_exporter": "python",
      "pygments_lexer": "ipython3",
      "version": "3.8.8"
    },
    "colab": {
      "name": "Compound Interest.ipynb",
      "provenance": [],
      "include_colab_link": true
    }
  },
  "cells": [
    {
      "cell_type": "markdown",
      "metadata": {
        "id": "view-in-github",
        "colab_type": "text"
      },
      "source": [
        "<a href=\"https://colab.research.google.com/github/SidharthaBanra/Python-Programs/blob/main/Compound_Interest.ipynb\" target=\"_parent\"><img src=\"https://colab.research.google.com/assets/colab-badge.svg\" alt=\"Open In Colab\"/></a>"
      ]
    },
    {
      "cell_type": "code",
      "metadata": {
        "id": "e833215b",
        "outputId": "41d05143-df4d-4167-affa-0beb47934df6"
      },
      "source": [
        "#Program to find the Compound Interest of the given value\n",
        "p,r,t=input(\"Enter Principal Value, Rate Of Interest & Time Period For The Amount You Want To Deposit \").split()\n",
        "P=int(p)\n",
        "R=float(r)\n",
        "T=int(t)\n",
        "Amount = P * (pow((1 + R / 100), T))\n",
        "CI = Amount - P\n",
        "print(\"Interest of the Value you deposited is\",CI)"
      ],
      "id": "e833215b",
      "execution_count": null,
      "outputs": [
        {
          "output_type": "stream",
          "text": [
            "Enter Principal Value, Rate Of Interest & Time Period For The Amount You Want To Deposit 1000 10 10\n",
            "Interest of the Value you deposited is 1593.7424601000025\n"
          ],
          "name": "stdout"
        }
      ]
    },
    {
      "cell_type": "code",
      "metadata": {
        "id": "077cd0d2"
      },
      "source": [
        ""
      ],
      "id": "077cd0d2",
      "execution_count": null,
      "outputs": []
    }
  ]
}