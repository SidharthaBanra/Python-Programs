{
  "nbformat": 4,
  "nbformat_minor": 5,
  "metadata": {
    "kernelspec": {
      "display_name": "Python 3",
      "language": "python",
      "name": "python3"
    },
    "language_info": {
      "codemirror_mode": {
        "name": "ipython",
        "version": 3
      },
      "file_extension": ".py",
      "mimetype": "text/x-python",
      "name": "python",
      "nbconvert_exporter": "python",
      "pygments_lexer": "ipython3",
      "version": "3.8.8"
    },
    "colab": {
      "name": "Score.ipynb",
      "provenance": [],
      "include_colab_link": true
    }
  },
  "cells": [
    {
      "cell_type": "markdown",
      "metadata": {
        "id": "view-in-github",
        "colab_type": "text"
      },
      "source": [
        "<a href=\"https://colab.research.google.com/github/SidharthaBanra/Python-Programs/blob/main/Score.ipynb\" target=\"_parent\"><img src=\"https://colab.research.google.com/assets/colab-badge.svg\" alt=\"Open In Colab\"/></a>"
      ]
    },
    {
      "cell_type": "code",
      "metadata": {
        "id": "6b946965",
        "outputId": "f7eefa6d-9881-4407-9149-49e4d203e479"
      },
      "source": [
        "#Program to take input of no. of players in a game and their level scores(3 levels) and total it using formula a+b*c/a-b\n",
        "def score(a,b,c,d,e):\n",
        "    p=a+b*c/a-b\n",
        "    print(\"Final Score of player\",i,\"is:\",p)\n",
        "n=int(input(\"Enter the number of players: \"))\n",
        "for i in range(1,n+1):\n",
        "    if ((n>100) or (n<1)):\n",
        "        print(\"Unsupported number of players\")\n",
        "        break\n",
        "    print(\"Enter the score of each level of player\",i,\":\")\n",
        "    x,y,z=input().split()\n",
        "    X=int(x)\n",
        "    Y=int(y)\n",
        "    Z=int(z)\n",
        "    if((X>1000) or (X<1) or (Y>1000) or (Y<1) or (Z>1000) or (Z<1)):\n",
        "        print(\"Hacked Scores. So your total score is 0\")\n",
        "        continue\n",
        "    score(X,Y,Z,i,n)"
      ],
      "id": "6b946965",
      "execution_count": null,
      "outputs": [
        {
          "name": "stdout",
          "output_type": "stream",
          "text": [
            "Enter the number of players: 2\n",
            "Enter the score of each level of player 1 :\n",
            "20 50 2000\n",
            "Hacked Scores. So your total score is 0\n",
            "Enter the score of each level of player 2 :\n",
            "100 200 300\n",
            "Final Score of player 2 is: 500.0\n"
          ]
        }
      ]
    },
    {
      "cell_type": "code",
      "metadata": {
        "id": "018f3ff8"
      },
      "source": [
        ""
      ],
      "id": "018f3ff8",
      "execution_count": null,
      "outputs": []
    }
  ]
}